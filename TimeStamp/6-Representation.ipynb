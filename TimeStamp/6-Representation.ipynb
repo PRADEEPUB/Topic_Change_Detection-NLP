{
 "cells": [
  {
   "cell_type": "code",
   "execution_count": 2,
   "id": "0336ca58",
   "metadata": {},
   "outputs": [
    {
     "data": {
      "text/plain": [
       "{'00:00': 0,\n",
       " '01:07': 9,\n",
       " '01:39': 13,\n",
       " '01:42': 13,\n",
       " '02:53': 24,\n",
       " '03:53': 29,\n",
       " '04:17': 34,\n",
       " '05:11': 40,\n",
       " '05:14': 40,\n",
       " '05:58': 43,\n",
       " '06:35': 48,\n",
       " '07:05': 50,\n",
       " '07:34': 55,\n",
       " '08:10': 58,\n",
       " '08:47': 62,\n",
       " '09:30': 68,\n",
       " '09:59': 72,\n",
       " '11:31': 82,\n",
       " '11:40': 82,\n",
       " '12:17': 88,\n",
       " '12:41': 89,\n",
       " '13:05': 91,\n",
       " '13:26': 95,\n",
       " '13:44': 98,\n",
       " '14:14': 101,\n",
       " '15:17': 112,\n",
       " '16:14': 118,\n",
       " '16:58': 123,\n",
       " '17:55': 130,\n",
       " '18:09': 130,\n",
       " '18:51': 141,\n",
       " '18:53': 141,\n",
       " '18:56': 141,\n",
       " '19:01': 141}"
      ]
     },
     "execution_count": 2,
     "metadata": {},
     "output_type": "execute_result"
    }
   ],
   "source": [
    "import pandas as pd\n",
    "import pickle\n",
    "data = pd.read_pickle('time_and_sentences.pkl')\n",
    "data"
   ]
  },
  {
   "cell_type": "code",
   "execution_count": 11,
   "id": "bf156f39",
   "metadata": {},
   "outputs": [
    {
     "data": {
      "image/png": "[encoded data removed]",
      "text/plain": [
       "<Figure size 432x288 with 1 Axes>"
      ]
     },
     "metadata": {
      "needs_background": "light"
     },
     "output_type": "display_data"
    }
   ],
   "source": [
    "from matplotlib import pyplot as plt\n",
    "\n",
    "x = list(data.keys())\n",
    "y = list(data.values())\n",
    "\n",
    "plt.plot(x,y)\n",
    "\n",
    "plt.title('Topic Change')\n",
    "plt.ylabel('Topics')\n",
    "plt.xlabel('Time')\n",
    "\n",
    "plt.show()"
   ]
  }
 ],
 "metadata": {
  "kernelspec": {
   "display_name": "Python 3 (ipykernel)",
   "language": "python",
   "name": "python3"
  },
  "language_info": {
   "codemirror_mode": {
    "name": "ipython",
    "version": 3
   },
   "file_extension": ".py",
   "mimetype": "text/x-python",
   "name": "python",
   "nbconvert_exporter": "python",
   "pygments_lexer": "ipython3",
   "version": "3.9.7"
  }
 },
 "nbformat": 4,
 "nbformat_minor": 5
}
