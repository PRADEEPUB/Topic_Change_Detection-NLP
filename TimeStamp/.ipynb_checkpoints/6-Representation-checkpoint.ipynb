{
 "cells": [
  {
   "cell_type": "code",
   "execution_count": 5,
   "id": "0336ca58",
   "metadata": {},
   "outputs": [
    {
     "data": {
      "text/plain": [
       "{'00:00': 0,\n",
       " '01:07': 9,\n",
       " '01:39': 13,\n",
       " '01:42': 13,\n",
       " '02:53': 24,\n",
       " '03:53': 30,\n",
       " '04:17': 35,\n",
       " '05:11': 42,\n",
       " '05:14': 43,\n",
       " '05:58': 47,\n",
       " '06:35': 53,\n",
       " '07:05': 56,\n",
       " '07:34': 61,\n",
       " '08:10': 64,\n",
       " '08:47': 68,\n",
       " '09:30': 74,\n",
       " '09:59': 78,\n",
       " '11:31': 88,\n",
       " '11:40': 88,\n",
       " '12:17': 94,\n",
       " '12:41': 95,\n",
       " '13:05': 97,\n",
       " '13:26': 101,\n",
       " '13:44': 104,\n",
       " '14:14': 107,\n",
       " '15:17': 118,\n",
       " '16:14': 124,\n",
       " '16:58': 129,\n",
       " '17:55': 136,\n",
       " '18:09': 136,\n",
       " '18:51': 147,\n",
       " '18:53': 147,\n",
       " '18:56': 147,\n",
       " '19:01': 147}"
      ]
     },
     "execution_count": 5,
     "metadata": {},
     "output_type": "execute_result"
    }
   ],
   "source": [
    "import pandas as pd\n",
    "import pickle\n",
    "data = pd.read_pickle('time_and_sentences.pkl')\n",
    "data"
   ]
  },
  {
   "cell_type": "code",
   "execution_count": null,
   "id": "bf156f39",
   "metadata": {},
   "outputs": [],
   "source": []
  }
 ],
 "metadata": {
  "kernelspec": {
   "display_name": "Python 3 (ipykernel)",
   "language": "python",
   "name": "python3"
  },
  "language_info": {
   "codemirror_mode": {
    "name": "ipython",
    "version": 3
   },
   "file_extension": ".py",
   "mimetype": "text/x-python",
   "name": "python",
   "nbconvert_exporter": "python",
   "pygments_lexer": "ipython3",
   "version": "3.9.7"
  }
 },
 "nbformat": 4,
 "nbformat_minor": 5
}
