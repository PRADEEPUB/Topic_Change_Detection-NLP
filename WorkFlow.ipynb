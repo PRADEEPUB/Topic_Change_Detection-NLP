{
 "cells": [
  {
   "cell_type": "markdown",
   "id": "f57601eb",
   "metadata": {},
   "source": [
    "# 1) Scraping and Pickling\n",
    "# 2) Text Preprocessing\n",
    "## &emsp;i)\n",
    "# 3) EDA\n",
    "# 4) "
   ]
  },
  {
   "cell_type": "markdown",
   "id": "4fe573e2",
   "metadata": {},
   "source": []
  }
 ],
 "metadata": {
  "kernelspec": {
   "display_name": "Python 3 (ipykernel)",
   "language": "python",
   "name": "python3"
  },
  "language_info": {
   "codemirror_mode": {
    "name": "ipython",
    "version": 3
   },
   "file_extension": ".py",
   "mimetype": "text/x-python",
   "name": "python",
   "nbconvert_exporter": "python",
   "pygments_lexer": "ipython3",
   "version": "3.9.7"
  }
 },
 "nbformat": 4,
 "nbformat_minor": 5
}
