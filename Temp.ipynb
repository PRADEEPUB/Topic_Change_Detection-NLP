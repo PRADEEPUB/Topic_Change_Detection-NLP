{
 "cells": [
  {
   "cell_type": "code",
   "execution_count": 1,
   "id": "f38033bf",
   "metadata": {},
   "outputs": [
    {
     "data": {
      "text/plain": [
       "[\"Good morning How ?( Laughter ) It 's great , n't ?\",\n",
       " \"I 've blown away whole thing In fact , I 'm leaving ( Laughter ) There three theme running conference relevant I want talk One extraordinary evidence human creativity presentation 've people Just variety range The second 's put u place idea 's going happen , term future No idea may play I interest education Actually , I find everybody interest education Do n't ?\",\n",
       " \"I find interesting If 're dinner party , say work education â€ ” Actually , 're often dinner party , frankly ( Laughter ) If work education , 're asked ( Laughter ) And 're never asked back , curiously That 's strange But , say somebody , know , say , `` What ? ''\",\n",
       " \"say work education , see blood run face They 're like , `` Oh God , '' know , `` Why ?\",\n",
       " \"`` ( Laughter ) '' My one night week `` ( Laughter ) But ask education , pin wall Because 's one thing go deep people , I right ?Like religion , money thing So I big interest education , I think We huge vested interest , partly 's education 's meant take u future ca n't grasp If think , child starting school year retiring 2065 Nobody clue , despite expertise 's parade past four day , world look like five year ' time And yet 're meant educating So unpredictability , I think , extraordinary And third part 've agreed , nonetheless , really extraordinary capacity child â€ ” capacity innovation I mean , Sirena last night marvel , n't ?\",\n",
       " \"Just seeing could And 's exceptional , I think 's , speak , exceptional whole childhood What person extraordinary dedication found talent And contention , kid tremendous talent And squander , pretty ruthlessly So I want talk education I want talk creativity My contention creativity important education literacy , treat status ( Applause ) Thank ( Applause ) That , way Thank much ( Laughter ) So , 15 minute left ( Laughter ) Well , I born ( Laughter ) I heard great story recently â€ ” I love telling â€ ” little girl drawing lesson She six , back , drawing , teacher said girl hardly ever paid attention , drawing lesson , The teacher fascinated She went , said , `` What drawing ? ''And girl said , `` I 'm drawing picture God `` And teacher said , `` But nobody know God look like `` And girl said , `` They , minute `` ( Laughter ) When son four England â€ ” Actually , four everywhere , honest ( Laughter ) If 're strict , wherever went , four year He Nativity play Do remember story ?( Laughter ) No , big , big story Mel Gibson sequel , may seen ( Laughter ) '' Nativity II `` But James got part Joseph , thrilled We considered one lead part We place crammed full agent T-shirts : `` James Robinson IS Joseph ! ''\",\n",
       " \"( Laughter ) He n't speak , know bit three king come ?\",\n",
       " \"They come bearing gift , gold , frankincense myrrh This really happened We sitting I think went sequence , talked little boy afterward said , `` You OK ? ''\",\n",
       " 'And said , `` Yeah , ?',\n",
       " \"Was wrong ? ''They switched The three boy came , four-year-olds tea towel head , put box , first boy said , `` I bring gold `` And second boy said , `` I bring myrrh `` And third boy said , `` Frank sent `` ( Laughter ) What thing common kid take chance If n't know , 'll go Am I right ?They 're frightened wrong I n't mean say wrong thing creative What know , 're prepared wrong , 'll never come anything original â€ ” 're prepared wrong And time get adult , kid lost capacity They become frightened wrong And run company like We stigmatize mistake And 're running national education system mistake worst thing make And result educating people creative capacity Picasso said , said child born artist The problem remain artist grow I believe passionately , n't grow creativity , grow Or rather , get educated So ? I lived Stratford-on-Avon five year ago In fact , moved Stratford Los Angeles So imagine seamless transition ( Laughter ) Actually , lived place called Snitterfield , outside Stratford , Shakespeare 's father born Are struck new thought ?I You n't think Shakespeare father , ?\",\n",
       " 'Do ?',\n",
       " \"Because n't think Shakespeare child , ?Shakespeare seven ?\",\n",
       " \"I never thought I mean , seven point He somebody 's English class , n't ?( Laughter ) How annoying would ?\",\n",
       " \"( Laughter ) '' Must try harder `` ( Laughter ) Being sent bed dad , know , Shakespeare , `` Go bed , !\",\n",
       " \"And put pencil `` ( Laughter ) '' And stop speaking like `` ( Laughter ) '' It 's confusing everybody `` ( Laughter ) Anyway , moved Stratford Los Angeles , I want say word transition My son n't want come I 've got two kid ; 's 21 , daughter 's 16 He n't want come Los Angeles He loved , girlfriend England This love life , Sarah He 'd known month ( Laughter ) Mind , 'd fourth anniversary , 's long time 're 16 He really upset plane , said , `` I 'll never find another girl like Sarah `` And rather pleased , frankly â€ ” ( Laughter ) Because main reason leaving country ( Laughter ) But something strike move America travel around world : Every education system Earth hierarchy subject Every one Does n't matter go You 'd think would otherwise , n't At top mathematics language , humanity , bottom art Everywhere Earth And pretty much every system , 's hierarchy within art Art music normally given higher status school drama dance There n't education system planet teach dance everyday child way teach mathematics Why ?Why ?\",\n",
       " \"I think rather important I think math important , dance Children dance time 're allowed , We body , n't ?\",\n",
       " \"Did I miss meeting ?( Laughter ) Truthfully , happens , child grow , start educate progressively waist And focus head And slightly one side If visit education , alien , say `` What 's , public education ? ''\",\n",
       " \"I think 'd conclude , look output , really succeeds , everything , get brownie point , winner â€ ” I think 'd conclude whole purpose public education throughout world produce university professor Is n't ?\",\n",
       " \"They 're people come top And I used one , ( Laughter ) And I like university professor , know , n't hold high-water mark human achievement They 're form life , another form life But 're rather curious , I say affection There 's something curious professor experience â€ ” , typically , live head They live , slightly one side They 're disembodied , know , kind literal way They look upon body form transport head ( Laughter ) Do n't ?\",\n",
       " \"It 's way getting head meeting ( Laughter ) If want real evidence out-of-body experience , get along residential conference senior academic , pop discotheque final night ( Laughter ) And , see Grown men woman writhing uncontrollably , beat ( Laughter ) Waiting end go home write paper ( Laughter ) Our education system predicated idea academic ability And 's reason Around world , public system education , really , 19th century They came meet need industrialism So hierarchy rooted two idea Number one , useful subject work top So probably steered benignly away thing school kid , thing liked , ground would never get job Is right ?\",\n",
       " \"Do n't music , 're going musician ; n't art , wo n't artist Benign advice â€ ” , profoundly mistaken The whole world engulfed revolution And second academic ability , really come dominate view intelligence , university designed system image If think , whole system public education around world protracted process university entrance And consequence many highly-talented , brilliant , creative people think 're , thing good school n't valued , actually stigmatized And I think ca n't afford go way In next 30 year , according UNESCO , people worldwide graduating education since beginning history More people , 's combination thing 've talked â€ ” technology transformation effect work , demography huge explosion population Suddenly , degree n't worth anything Is n't true ?\",\n",
       " \"When I student , degree , job If n't job , 's n't want one And I n't want one , frankly ( Laughter ) But kid degree often heading home carry playing video game , need MA previous job required BA , need PhD It 's process academic inflation And indicates whole structure education shifting beneath foot We need radically rethink view intelligence We know three thing intelligence One , 's diverse We think world way experience We think visually , think sound , think kinesthetically We think abstract term , think movement Secondly , intelligence dynamic If look interaction human brain , heard yesterday number presentation , intelligence wonderfully interactive The brain n't divided compartment In fact , creativity â€ ” I define process original idea value â€ ” often come interaction different disciplinary way seeing thing By way , 's shaft nerve join two half brain called corpus callosum It 's thicker woman Following Helen yesterday , probably woman better multi-tasking Because , n't ?\",\n",
       " \"There 's raft research , I know personal life If wife cooking meal home â€ ” often , thankfully ( Laughter ) No , 's good thing , 's cooking , 's dealing people phone , 's talking kid , 's painting ceiling , 's open-heart surgery If I 'm cooking , door shut , kid , phone 's hook , come I get annoyed I say , `` Terry , please , I 'm trying fry egg `` ( Laughter ) '' Give break `` ( Laughter ) Actually , know old philosophical thing , tree fall forest nobody hears , happen ?Remember old chestnut ?\",\n",
       " 'I saw great t-shirt recently , said , `` If man speaks mind forest , woman hears , still wrong ?',\n",
       " \"`` ( Laughter ) And third thing intelligence , 's distinct I 'm new book moment called `` Epiphany , '' based series interview people discovered talent I 'm fascinated people got It 's really prompted conversation I wonderful woman maybe people never heard , Gillian Lynne Have heard ?\",\n",
       " \"Some She 's choreographer , everybody know work She `` Cats '' `` Phantom Opera `` She 's wonderful I used board The Royal Ballet , see Anyway , Gillian I lunch one day I said , `` How get dancer ? ''It interesting When school , really hopeless And school , '30s , wrote parent said , `` We think Gillian learning disorder `` She could n't concentrate ; fidgeting I think 'd say ADHD Would n't ?\",\n",
       " \"But 1930s , ADHD n't invented point It n't available condition ( Laughter ) People n't aware could ( Laughter ) Anyway , went see specialist So , oak-paneled room , mother , led sat chair end , sat hand 20 minute man talked mother problem Gillian school Because disturbing people ; homework always late ; , little kid eight In end , doctor went sat next Gillian , said , `` I 've listened thing mother 's told , I need speak privately Wait We 'll back ; wo n't long , '' went left But went room , turned radio sitting desk And got , said mother , `` Just stand watch `` And minute left room , foot , moving music And watched minute turned mother said , `` Mrs Lynne , Gillian n't sick ; 's dancer Take dance school `` I said , `` What happened ? ''\",\n",
       " \"She said , `` She I ca n't tell wonderful We walked room full people like People could n't sit still People move think `` Who move think They ballet , tap , jazz ; modern ; contemporary She eventually auditioned Royal Ballet School ; became soloist ; wonderful career Royal Ballet She eventually graduated Royal Ballet School , founded Gillian Lynne Dance Company , met Andrew Lloyd Webber She 's responsible successful musical theater production history , 's given pleasure million , 's multi-millionaire Somebody else might put medication told calm ( Applause ) What I think come : Al Gore spoke night ecology revolution triggered Rachel Carson I believe hope future adopt new conception human ecology , one start reconstitute conception richness human capacity Our education system mined mind way strip-mine earth : particular commodity And future , wo n't serve u We rethink fundamental principle 're educating child There wonderful quote Jonas Salk , said , `` If insect disappear Earth , within 50 year life Earth would end If human being disappeared Earth , within 50 year form life would flourish `` And 's right What TED celebrates gift human imagination We careful use gift wisely avert scenario 've talked And way 'll seeing creative capacity richness seeing child hope And task educate whole , face future By way â€ ” may see future , And job help make something Thank much ( Applause )\"]"
      ]
     },
     "execution_count": 1,
     "metadata": {},
     "output_type": "execute_result"
    }
   ],
   "source": [
    "import pandas as pd\n",
    "import pickle\n",
    "\n",
    "combined_sent = pd.read_pickle('Combined_wrt_topics.pkl')\n",
    "sentences = []\n",
    "for i in range(len(combined_sent)):\n",
    "    sentences.append(combined_sent.transcript.loc[i])\n",
    "sentences"
   ]
  },
  {
   "cell_type": "code",
   "execution_count": 2,
   "id": "373980b1",
   "metadata": {},
   "outputs": [],
   "source": [
    "from sentence_transformers import SentenceTransformer\n",
    "\n",
    "model = SentenceTransformer('bert-base-nli-mean-tokens')"
   ]
  },
  {
   "cell_type": "code",
   "execution_count": 3,
   "id": "dbb7fc8a",
   "metadata": {},
   "outputs": [],
   "source": [
    "sentence_embeddings = model.encode(sentences)"
   ]
  },
  {
   "cell_type": "code",
   "execution_count": 4,
   "id": "06d79802",
   "metadata": {},
   "outputs": [],
   "source": [
    "bert_data = []\n",
    "bert_data.append(combined_sent.loc[0].at['transcript'])"
   ]
  },
  {
   "cell_type": "code",
   "execution_count": 5,
   "id": "bc0867f6",
   "metadata": {},
   "outputs": [],
   "source": [
    "from sklearn.metrics.pairwise import cosine_similarity"
   ]
  },
  {
   "cell_type": "code",
   "execution_count": 21,
   "id": "1d4bb4d8",
   "metadata": {
    "scrolled": false
   },
   "outputs": [
    {
     "name": "stdout",
     "output_type": "stream",
     "text": [
      "cs 1 - 2\n",
      "0.40191048\n",
      "value of a is 1\n",
      "Good morning How ?( Laughter ) It 's great , n't ?\n",
      "cs 2 - 3\n",
      "0.6556554\n",
      "value of a is 2\n",
      "I 've blown away whole thing In fact , I 'm leaving ( Laughter ) There three theme running conference relevant I want talk One extraordinary evidence human creativity presentation 've people Just variety range The second 's put u place idea 's going happen , term future No idea may play I interest education Actually , I find everybody interest education Do n't ?\n",
      "cs 3 - 4\n",
      "0.25666463\n",
      "value of a is 3\n",
      "I find interesting If 're dinner party , say work education â€ ” Actually , 're often dinner party , frankly ( Laughter ) If work education , 're asked ( Laughter ) And 're never asked back , curiously That 's strange But , say somebody , know , say , `` What ? ''\n",
      "cs 4 - 5\n",
      "0.36836767\n",
      "value of a is 4\n",
      "say work education , see blood run face They 're like , `` Oh God , '' know , `` Why ?\n",
      "cs 5 - 6\n",
      "0.7484104\n",
      "value of a is 5\n",
      "`` ( Laughter ) '' My one night week `` ( Laughter ) But ask education , pin wall Because 's one thing go deep people , I right ?Like religion , money thing So I big interest education , I think We huge vested interest , partly 's education 's meant take u future ca n't grasp If think , child starting school year retiring 2065 Nobody clue , despite expertise 's parade past four day , world look like five year ' time And yet 're meant educating So unpredictability , I think , extraordinary And third part 've agreed , nonetheless , really extraordinary capacity child â€ ” capacity innovation I mean , Sirena last night marvel , n't ?\n",
      "cs 6 - 7\n",
      "0.4091911\n",
      "value of a is 5\n",
      "`` ( Laughter ) '' My one night week `` ( Laughter ) But ask education , pin wall Because 's one thing go deep people , I right ?Like religion , money thing So I big interest education , I think We huge vested interest , partly 's education 's meant take u future ca n't grasp If think , child starting school year retiring 2065 Nobody clue , despite expertise 's parade past four day , world look like five year ' time And yet 're meant educating So unpredictability , I think , extraordinary And third part 've agreed , nonetheless , really extraordinary capacity child â€ ” capacity innovation I mean , Sirena last night marvel , n't ?Just seeing could And 's exceptional , I think 's , speak , exceptional whole childhood What person extraordinary dedication found talent And contention , kid tremendous talent And squander , pretty ruthlessly So I want talk education I want talk creativity My contention creativity important education literacy , treat status ( Applause ) Thank ( Applause ) That , way Thank much ( Laughter ) So , 15 minute left ( Laughter ) Well , I born ( Laughter ) I heard great story recently â€ ” I love telling â€ ” little girl drawing lesson She six , back , drawing , teacher said girl hardly ever paid attention , drawing lesson , The teacher fascinated She went , said , `` What drawing ? ''And girl said , `` I 'm drawing picture God `` And teacher said , `` But nobody know God look like `` And girl said , `` They , minute `` ( Laughter ) When son four England â€ ” Actually , four everywhere , honest ( Laughter ) If 're strict , wherever went , four year He Nativity play Do remember story ?( Laughter ) No , big , big story Mel Gibson sequel , may seen ( Laughter ) '' Nativity II `` But James got part Joseph , thrilled We considered one lead part We place crammed full agent T-shirts : `` James Robinson IS Joseph ! ''\n",
      "cs 7 - 8\n",
      "0.5644878\n",
      "value of a is 6\n",
      "( Laughter ) He n't speak , know bit three king come ?\n",
      "cs 8 - 9\n",
      "0.25356156\n",
      "value of a is 7\n",
      "They come bearing gift , gold , frankincense myrrh This really happened We sitting I think went sequence , talked little boy afterward said , `` You OK ? ''\n",
      "cs 9 - 10\n",
      "-0.012584126\n",
      "value of a is 8\n",
      "And said , `` Yeah , ?\n",
      "cs 10 - 11\n",
      "-0.06185466\n",
      "value of a is 9\n",
      "Was wrong ? ''They switched The three boy came , four-year-olds tea towel head , put box , first boy said , `` I bring gold `` And second boy said , `` I bring myrrh `` And third boy said , `` Frank sent `` ( Laughter ) What thing common kid take chance If n't know , 'll go Am I right ?They 're frightened wrong I n't mean say wrong thing creative What know , 're prepared wrong , 'll never come anything original â€ ” 're prepared wrong And time get adult , kid lost capacity They become frightened wrong And run company like We stigmatize mistake And 're running national education system mistake worst thing make And result educating people creative capacity Picasso said , said child born artist The problem remain artist grow I believe passionately , n't grow creativity , grow Or rather , get educated So ? I lived Stratford-on-Avon five year ago In fact , moved Stratford Los Angeles So imagine seamless transition ( Laughter ) Actually , lived place called Snitterfield , outside Stratford , Shakespeare 's father born Are struck new thought ?I You n't think Shakespeare father , ?\n",
      "cs 11 - 12\n",
      "0.37910247\n",
      "value of a is 10\n",
      "Do ?\n",
      "cs 12 - 13\n",
      "0.69241357\n",
      "value of a is 11\n",
      "Because n't think Shakespeare child , ?Shakespeare seven ?\n",
      "cs 13 - 14\n",
      "0.52730286\n",
      "value of a is 12\n",
      "I never thought I mean , seven point He somebody 's English class , n't ?( Laughter ) How annoying would ?\n",
      "cs 14 - 15\n",
      "0.58015215\n",
      "value of a is 13\n",
      "( Laughter ) '' Must try harder `` ( Laughter ) Being sent bed dad , know , Shakespeare , `` Go bed , !\n",
      "cs 15 - 16\n",
      "0.48577958\n",
      "value of a is 14\n",
      "And put pencil `` ( Laughter ) '' And stop speaking like `` ( Laughter ) '' It 's confusing everybody `` ( Laughter ) Anyway , moved Stratford Los Angeles , I want say word transition My son n't want come I 've got two kid ; 's 21 , daughter 's 16 He n't want come Los Angeles He loved , girlfriend England This love life , Sarah He 'd known month ( Laughter ) Mind , 'd fourth anniversary , 's long time 're 16 He really upset plane , said , `` I 'll never find another girl like Sarah `` And rather pleased , frankly â€ ” ( Laughter ) Because main reason leaving country ( Laughter ) But something strike move America travel around world : Every education system Earth hierarchy subject Every one Does n't matter go You 'd think would otherwise , n't At top mathematics language , humanity , bottom art Everywhere Earth And pretty much every system , 's hierarchy within art Art music normally given higher status school drama dance There n't education system planet teach dance everyday child way teach mathematics Why ?Why ?\n",
      "cs 16 - 17\n",
      "0.64081264\n",
      "value of a is 15\n",
      "I think rather important I think math important , dance Children dance time 're allowed , We body , n't ?\n",
      "cs 17 - 18\n",
      "0.6397941\n",
      "value of a is 16\n",
      "Did I miss meeting ?( Laughter ) Truthfully , happens , child grow , start educate progressively waist And focus head And slightly one side If visit education , alien , say `` What 's , public education ? ''\n",
      "cs 18 - 19\n",
      "0.9267614\n",
      "value of a is 17\n",
      "I think 'd conclude , look output , really succeeds , everything , get brownie point , winner â€ ” I think 'd conclude whole purpose public education throughout world produce university professor Is n't ?\n",
      "cs 19 - 20\n",
      "0.7190722\n",
      "value of a is 17\n",
      "I think 'd conclude , look output , really succeeds , everything , get brownie point , winner â€ ” I think 'd conclude whole purpose public education throughout world produce university professor Is n't ?They 're people come top And I used one , ( Laughter ) And I like university professor , know , n't hold high-water mark human achievement They 're form life , another form life But 're rather curious , I say affection There 's something curious professor experience â€ ” , typically , live head They live , slightly one side They 're disembodied , know , kind literal way They look upon body form transport head ( Laughter ) Do n't ?\n",
      "cs 20 - 21\n",
      "0.72696173\n",
      "value of a is 17\n",
      "I think 'd conclude , look output , really succeeds , everything , get brownie point , winner â€ ” I think 'd conclude whole purpose public education throughout world produce university professor Is n't ?They 're people come top And I used one , ( Laughter ) And I like university professor , know , n't hold high-water mark human achievement They 're form life , another form life But 're rather curious , I say affection There 's something curious professor experience â€ ” , typically , live head They live , slightly one side They 're disembodied , know , kind literal way They look upon body form transport head ( Laughter ) Do n't ?It 's way getting head meeting ( Laughter ) If want real evidence out-of-body experience , get along residential conference senior academic , pop discotheque final night ( Laughter ) And , see Grown men woman writhing uncontrollably , beat ( Laughter ) Waiting end go home write paper ( Laughter ) Our education system predicated idea academic ability And 's reason Around world , public system education , really , 19th century They came meet need industrialism So hierarchy rooted two idea Number one , useful subject work top So probably steered benignly away thing school kid , thing liked , ground would never get job Is right ?\n"
     ]
    },
    {
     "name": "stdout",
     "output_type": "stream",
     "text": [
      "cs 21 - 22\n",
      "0.6895535\n",
      "value of a is 17\n",
      "I think 'd conclude , look output , really succeeds , everything , get brownie point , winner â€ ” I think 'd conclude whole purpose public education throughout world produce university professor Is n't ?They 're people come top And I used one , ( Laughter ) And I like university professor , know , n't hold high-water mark human achievement They 're form life , another form life But 're rather curious , I say affection There 's something curious professor experience â€ ” , typically , live head They live , slightly one side They 're disembodied , know , kind literal way They look upon body form transport head ( Laughter ) Do n't ?It 's way getting head meeting ( Laughter ) If want real evidence out-of-body experience , get along residential conference senior academic , pop discotheque final night ( Laughter ) And , see Grown men woman writhing uncontrollably , beat ( Laughter ) Waiting end go home write paper ( Laughter ) Our education system predicated idea academic ability And 's reason Around world , public system education , really , 19th century They came meet need industrialism So hierarchy rooted two idea Number one , useful subject work top So probably steered benignly away thing school kid , thing liked , ground would never get job Is right ?Do n't music , 're going musician ; n't art , wo n't artist Benign advice â€ ” , profoundly mistaken The whole world engulfed revolution And second academic ability , really come dominate view intelligence , university designed system image If think , whole system public education around world protracted process university entrance And consequence many highly-talented , brilliant , creative people think 're , thing good school n't valued , actually stigmatized And I think ca n't afford go way In next 30 year , according UNESCO , people worldwide graduating education since beginning history More people , 's combination thing 've talked â€ ” technology transformation effect work , demography huge explosion population Suddenly , degree n't worth anything Is n't true ?\n",
      "cs 22 - 23\n",
      "0.6728141\n",
      "value of a is 18\n",
      "When I student , degree , job If n't job , 's n't want one And I n't want one , frankly ( Laughter ) But kid degree often heading home carry playing video game , need MA previous job required BA , need PhD It 's process academic inflation And indicates whole structure education shifting beneath foot We need radically rethink view intelligence We know three thing intelligence One , 's diverse We think world way experience We think visually , think sound , think kinesthetically We think abstract term , think movement Secondly , intelligence dynamic If look interaction human brain , heard yesterday number presentation , intelligence wonderfully interactive The brain n't divided compartment In fact , creativity â€ ” I define process original idea value â€ ” often come interaction different disciplinary way seeing thing By way , 's shaft nerve join two half brain called corpus callosum It 's thicker woman Following Helen yesterday , probably woman better multi-tasking Because , n't ?\n",
      "cs 23 - 24\n",
      "0.53172946\n",
      "value of a is 19\n",
      "There 's raft research , I know personal life If wife cooking meal home â€ ” often , thankfully ( Laughter ) No , 's good thing , 's cooking , 's dealing people phone , 's talking kid , 's painting ceiling , 's open-heart surgery If I 'm cooking , door shut , kid , phone 's hook , come I get annoyed I say , `` Terry , please , I 'm trying fry egg `` ( Laughter ) '' Give break `` ( Laughter ) Actually , know old philosophical thing , tree fall forest nobody hears , happen ?Remember old chestnut ?\n",
      "cs 24 - 25\n",
      "0.68286836\n",
      "value of a is 20\n",
      "I saw great t-shirt recently , said , `` If man speaks mind forest , woman hears , still wrong ?\n",
      "cs 25 - 26\n",
      "0.9471089\n",
      "value of a is 21\n",
      "`` ( Laughter ) And third thing intelligence , 's distinct I 'm new book moment called `` Epiphany , '' based series interview people discovered talent I 'm fascinated people got It 's really prompted conversation I wonderful woman maybe people never heard , Gillian Lynne Have heard ?\n",
      "cs 26 - 27\n",
      "0.7319962\n",
      "value of a is 21\n",
      "`` ( Laughter ) And third thing intelligence , 's distinct I 'm new book moment called `` Epiphany , '' based series interview people discovered talent I 'm fascinated people got It 's really prompted conversation I wonderful woman maybe people never heard , Gillian Lynne Have heard ?Some She 's choreographer , everybody know work She `` Cats '' `` Phantom Opera `` She 's wonderful I used board The Royal Ballet , see Anyway , Gillian I lunch one day I said , `` How get dancer ? ''It interesting When school , really hopeless And school , '30s , wrote parent said , `` We think Gillian learning disorder `` She could n't concentrate ; fidgeting I think 'd say ADHD Would n't ?\n",
      "cs 27 - 28\n",
      "0.9139098\n",
      "value of a is 21\n",
      "`` ( Laughter ) And third thing intelligence , 's distinct I 'm new book moment called `` Epiphany , '' based series interview people discovered talent I 'm fascinated people got It 's really prompted conversation I wonderful woman maybe people never heard , Gillian Lynne Have heard ?Some She 's choreographer , everybody know work She `` Cats '' `` Phantom Opera `` She 's wonderful I used board The Royal Ballet , see Anyway , Gillian I lunch one day I said , `` How get dancer ? ''It interesting When school , really hopeless And school , '30s , wrote parent said , `` We think Gillian learning disorder `` She could n't concentrate ; fidgeting I think 'd say ADHD Would n't ?But 1930s , ADHD n't invented point It n't available condition ( Laughter ) People n't aware could ( Laughter ) Anyway , went see specialist So , oak-paneled room , mother , led sat chair end , sat hand 20 minute man talked mother problem Gillian school Because disturbing people ; homework always late ; , little kid eight In end , doctor went sat next Gillian , said , `` I 've listened thing mother 's told , I need speak privately Wait We 'll back ; wo n't long , '' went left But went room , turned radio sitting desk And got , said mother , `` Just stand watch `` And minute left room , foot , moving music And watched minute turned mother said , `` Mrs Lynne , Gillian n't sick ; 's dancer Take dance school `` I said , `` What happened ? ''\n",
      "`` ( Laughter ) And third thing intelligence , 's distinct I 'm new book moment called `` Epiphany , '' based series interview people discovered talent I 'm fascinated people got It 's really prompted conversation I wonderful woman maybe people never heard , Gillian Lynne Have heard ?Some She 's choreographer , everybody know work She `` Cats '' `` Phantom Opera `` She 's wonderful I used board The Royal Ballet , see Anyway , Gillian I lunch one day I said , `` How get dancer ? ''It interesting When school , really hopeless And school , '30s , wrote parent said , `` We think Gillian learning disorder `` She could n't concentrate ; fidgeting I think 'd say ADHD Would n't ?But 1930s , ADHD n't invented point It n't available condition ( Laughter ) People n't aware could ( Laughter ) Anyway , went see specialist So , oak-paneled room , mother , led sat chair end , sat hand 20 minute man talked mother problem Gillian school Because disturbing people ; homework always late ; , little kid eight In end , doctor went sat next Gillian , said , `` I 've listened thing mother 's told , I need speak privately Wait We 'll back ; wo n't long , '' went left But went room , turned radio sitting desk And got , said mother , `` Just stand watch `` And minute left room , foot , moving music And watched minute turned mother said , `` Mrs Lynne , Gillian n't sick ; 's dancer Take dance school `` I said , `` What happened ? ''She said , `` She I ca n't tell wonderful We walked room full people like People could n't sit still People move think `` Who move think They ballet , tap , jazz ; modern ; contemporary She eventually auditioned Royal Ballet School ; became soloist ; wonderful career Royal Ballet She eventually graduated Royal Ballet School , founded Gillian Lynne Dance Company , met Andrew Lloyd Webber She 's responsible successful musical theater production history , 's given pleasure million , 's multi-millionaire Somebody else might put medication told calm ( Applause ) What I think come : Al Gore spoke night ecology revolution triggered Rachel Carson I believe hope future adopt new conception human ecology , one start reconstitute conception richness human capacity Our education system mined mind way strip-mine earth : particular commodity And future , wo n't serve u We rethink fundamental principle 're educating child There wonderful quote Jonas Salk , said , `` If insect disappear Earth , within 50 year life Earth would end If human being disappeared Earth , within 50 year form life would flourish `` And 's right What TED celebrates gift human imagination We careful use gift wisely avert scenario 've talked And way 'll seeing creative capacity richness seeing child hope And task educate whole , face future By way â€ ” may see future , And job help make something Thank much ( Applause )\n"
     ]
    }
   ],
   "source": [
    "a = 0\n",
    "sentences_string = \"\"\n",
    "sentences_string += combined_sent.loc[0].at['transcript']\n",
    "final = []\n",
    "b = 0\n",
    "\n",
    "for i in range(1, len(combined_sent)):\n",
    "    sentence_embeddings2 = model.encode(bert_data)\n",
    "    print('cs {} - {}'.format(i, i+1))\n",
    "    print(cosine_similarity([sentence_embeddings[i]],sentence_embeddings2[a:a+1])[0][0])\n",
    "    print('value of a is {}'.format(a+1))\n",
    "    print(sentences_string)\n",
    "    \n",
    "    if(b != a):\n",
    "        final[a] = sentences_string\n",
    "        b = a\n",
    "    else: \n",
    "        final.append(sentences_string)\n",
    "        \n",
    "    if(cosine_similarity([sentence_embeddings[i]],sentence_embeddings2[a:a+1])[0][0] >= 0.7):\n",
    "        sentences_string += combined_sent.loc[i].at['transcript']\n",
    "        bert_data[a] = sentences_string\n",
    "        \n",
    "    else:\n",
    "        a += 1\n",
    "        sentences_string = combined_sent.loc[i].at['transcript']\n",
    "        bert_data.append(sentences_string)\n",
    "    b += 1\n",
    "\n",
    "if(b != a):\n",
    "    final[a] = sentences_string\n",
    "    b = a\n",
    "    \n",
    "else: \n",
    "    final.append(sentences_string)\n",
    "    \n",
    "print(sentences_string)"
   ]
  },
  {
   "cell_type": "code",
   "execution_count": 19,
   "id": "84789437",
   "metadata": {},
   "outputs": [
    {
     "data": {
      "text/plain": [
       "{0: \"Good morning How ?( Laughter ) It 's great , n't ?\",\n",
       " 1: \"I 've blown away whole thing In fact , I 'm leaving ( Laughter ) There three theme running conference relevant I want talk One extraordinary evidence human creativity presentation 've people Just variety range The second 's put u place idea 's going happen , term future No idea may play I interest education Actually , I find everybody interest education Do n't ?\",\n",
       " 2: \"I find interesting If 're dinner party , say work education â€ ” Actually , 're often dinner party , frankly ( Laughter ) If work education , 're asked ( Laughter ) And 're never asked back , curiously That 's strange But , say somebody , know , say , `` What ? ''\",\n",
       " 3: \"say work education , see blood run face They 're like , `` Oh God , '' know , `` Why ?\",\n",
       " 4: \"`` ( Laughter ) '' My one night week `` ( Laughter ) But ask education , pin wall Because 's one thing go deep people , I right ?Like religion , money thing So I big interest education , I think We huge vested interest , partly 's education 's meant take u future ca n't grasp If think , child starting school year retiring 2065 Nobody clue , despite expertise 's parade past four day , world look like five year ' time And yet 're meant educating So unpredictability , I think , extraordinary And third part 've agreed , nonetheless , really extraordinary capacity child â€ ” capacity innovation I mean , Sirena last night marvel , n't ?Just seeing could And 's exceptional , I think 's , speak , exceptional whole childhood What person extraordinary dedication found talent And contention , kid tremendous talent And squander , pretty ruthlessly So I want talk education I want talk creativity My contention creativity important education literacy , treat status ( Applause ) Thank ( Applause ) That , way Thank much ( Laughter ) So , 15 minute left ( Laughter ) Well , I born ( Laughter ) I heard great story recently â€ ” I love telling â€ ” little girl drawing lesson She six , back , drawing , teacher said girl hardly ever paid attention , drawing lesson , The teacher fascinated She went , said , `` What drawing ? ''And girl said , `` I 'm drawing picture God `` And teacher said , `` But nobody know God look like `` And girl said , `` They , minute `` ( Laughter ) When son four England â€ ” Actually , four everywhere , honest ( Laughter ) If 're strict , wherever went , four year He Nativity play Do remember story ?( Laughter ) No , big , big story Mel Gibson sequel , may seen ( Laughter ) '' Nativity II `` But James got part Joseph , thrilled We considered one lead part We place crammed full agent T-shirts : `` James Robinson IS Joseph ! ''\",\n",
       " 5: \"( Laughter ) He n't speak , know bit three king come ?\",\n",
       " 6: \"They come bearing gift , gold , frankincense myrrh This really happened We sitting I think went sequence , talked little boy afterward said , `` You OK ? ''\",\n",
       " 7: 'And said , `` Yeah , ?',\n",
       " 8: \"Was wrong ? ''They switched The three boy came , four-year-olds tea towel head , put box , first boy said , `` I bring gold `` And second boy said , `` I bring myrrh `` And third boy said , `` Frank sent `` ( Laughter ) What thing common kid take chance If n't know , 'll go Am I right ?They 're frightened wrong I n't mean say wrong thing creative What know , 're prepared wrong , 'll never come anything original â€ ” 're prepared wrong And time get adult , kid lost capacity They become frightened wrong And run company like We stigmatize mistake And 're running national education system mistake worst thing make And result educating people creative capacity Picasso said , said child born artist The problem remain artist grow I believe passionately , n't grow creativity , grow Or rather , get educated So ? I lived Stratford-on-Avon five year ago In fact , moved Stratford Los Angeles So imagine seamless transition ( Laughter ) Actually , lived place called Snitterfield , outside Stratford , Shakespeare 's father born Are struck new thought ?I You n't think Shakespeare father , ?\",\n",
       " 9: 'Do ?',\n",
       " 10: \"Because n't think Shakespeare child , ?Shakespeare seven ?\",\n",
       " 11: \"I never thought I mean , seven point He somebody 's English class , n't ?( Laughter ) How annoying would ?\",\n",
       " 12: \"( Laughter ) '' Must try harder `` ( Laughter ) Being sent bed dad , know , Shakespeare , `` Go bed , !\",\n",
       " 13: \"And put pencil `` ( Laughter ) '' And stop speaking like `` ( Laughter ) '' It 's confusing everybody `` ( Laughter ) Anyway , moved Stratford Los Angeles , I want say word transition My son n't want come I 've got two kid ; 's 21 , daughter 's 16 He n't want come Los Angeles He loved , girlfriend England This love life , Sarah He 'd known month ( Laughter ) Mind , 'd fourth anniversary , 's long time 're 16 He really upset plane , said , `` I 'll never find another girl like Sarah `` And rather pleased , frankly â€ ” ( Laughter ) Because main reason leaving country ( Laughter ) But something strike move America travel around world : Every education system Earth hierarchy subject Every one Does n't matter go You 'd think would otherwise , n't At top mathematics language , humanity , bottom art Everywhere Earth And pretty much every system , 's hierarchy within art Art music normally given higher status school drama dance There n't education system planet teach dance everyday child way teach mathematics Why ?Why ?\",\n",
       " 14: \"I think rather important I think math important , dance Children dance time 're allowed , We body , n't ?\",\n",
       " 15: \"Did I miss meeting ?( Laughter ) Truthfully , happens , child grow , start educate progressively waist And focus head And slightly one side If visit education , alien , say `` What 's , public education ? ''\",\n",
       " 16: \"I think 'd conclude , look output , really succeeds , everything , get brownie point , winner â€ ” I think 'd conclude whole purpose public education throughout world produce university professor Is n't ?They 're people come top And I used one , ( Laughter ) And I like university professor , know , n't hold high-water mark human achievement They 're form life , another form life But 're rather curious , I say affection There 's something curious professor experience â€ ” , typically , live head They live , slightly one side They 're disembodied , know , kind literal way They look upon body form transport head ( Laughter ) Do n't ?It 's way getting head meeting ( Laughter ) If want real evidence out-of-body experience , get along residential conference senior academic , pop discotheque final night ( Laughter ) And , see Grown men woman writhing uncontrollably , beat ( Laughter ) Waiting end go home write paper ( Laughter ) Our education system predicated idea academic ability And 's reason Around world , public system education , really , 19th century They came meet need industrialism So hierarchy rooted two idea Number one , useful subject work top So probably steered benignly away thing school kid , thing liked , ground would never get job Is right ?Do n't music , 're going musician ; n't art , wo n't artist Benign advice â€ ” , profoundly mistaken The whole world engulfed revolution And second academic ability , really come dominate view intelligence , university designed system image If think , whole system public education around world protracted process university entrance And consequence many highly-talented , brilliant , creative people think 're , thing good school n't valued , actually stigmatized And I think ca n't afford go way In next 30 year , according UNESCO , people worldwide graduating education since beginning history More people , 's combination thing 've talked â€ ” technology transformation effect work , demography huge explosion population Suddenly , degree n't worth anything Is n't true ?\",\n",
       " 17: \"When I student , degree , job If n't job , 's n't want one And I n't want one , frankly ( Laughter ) But kid degree often heading home carry playing video game , need MA previous job required BA , need PhD It 's process academic inflation And indicates whole structure education shifting beneath foot We need radically rethink view intelligence We know three thing intelligence One , 's diverse We think world way experience We think visually , think sound , think kinesthetically We think abstract term , think movement Secondly , intelligence dynamic If look interaction human brain , heard yesterday number presentation , intelligence wonderfully interactive The brain n't divided compartment In fact , creativity â€ ” I define process original idea value â€ ” often come interaction different disciplinary way seeing thing By way , 's shaft nerve join two half brain called corpus callosum It 's thicker woman Following Helen yesterday , probably woman better multi-tasking Because , n't ?\",\n",
       " 18: \"There 's raft research , I know personal life If wife cooking meal home â€ ” often , thankfully ( Laughter ) No , 's good thing , 's cooking , 's dealing people phone , 's talking kid , 's painting ceiling , 's open-heart surgery If I 'm cooking , door shut , kid , phone 's hook , come I get annoyed I say , `` Terry , please , I 'm trying fry egg `` ( Laughter ) '' Give break `` ( Laughter ) Actually , know old philosophical thing , tree fall forest nobody hears , happen ?Remember old chestnut ?\",\n",
       " 19: 'I saw great t-shirt recently , said , `` If man speaks mind forest , woman hears , still wrong ?',\n",
       " 20: \"`` ( Laughter ) And third thing intelligence , 's distinct I 'm new book moment called `` Epiphany , '' based series interview people discovered talent I 'm fascinated people got It 's really prompted conversation I wonderful woman maybe people never heard , Gillian Lynne Have heard ?Some She 's choreographer , everybody know work She `` Cats '' `` Phantom Opera `` She 's wonderful I used board The Royal Ballet , see Anyway , Gillian I lunch one day I said , `` How get dancer ? ''It interesting When school , really hopeless And school , '30s , wrote parent said , `` We think Gillian learning disorder `` She could n't concentrate ; fidgeting I think 'd say ADHD Would n't ?But 1930s , ADHD n't invented point It n't available condition ( Laughter ) People n't aware could ( Laughter ) Anyway , went see specialist So , oak-paneled room , mother , led sat chair end , sat hand 20 minute man talked mother problem Gillian school Because disturbing people ; homework always late ; , little kid eight In end , doctor went sat next Gillian , said , `` I 've listened thing mother 's told , I need speak privately Wait We 'll back ; wo n't long , '' went left But went room , turned radio sitting desk And got , said mother , `` Just stand watch `` And minute left room , foot , moving music And watched minute turned mother said , `` Mrs Lynne , Gillian n't sick ; 's dancer Take dance school `` I said , `` What happened ? ''She said , `` She I ca n't tell wonderful We walked room full people like People could n't sit still People move think `` Who move think They ballet , tap , jazz ; modern ; contemporary She eventually auditioned Royal Ballet School ; became soloist ; wonderful career Royal Ballet She eventually graduated Royal Ballet School , founded Gillian Lynne Dance Company , met Andrew Lloyd Webber She 's responsible successful musical theater production history , 's given pleasure million , 's multi-millionaire Somebody else might put medication told calm ( Applause ) What I think come : Al Gore spoke night ecology revolution triggered Rachel Carson I believe hope future adopt new conception human ecology , one start reconstitute conception richness human capacity Our education system mined mind way strip-mine earth : particular commodity And future , wo n't serve u We rethink fundamental principle 're educating child There wonderful quote Jonas Salk , said , `` If insect disappear Earth , within 50 year life Earth would end If human being disappeared Earth , within 50 year form life would flourish `` And 's right What TED celebrates gift human imagination We careful use gift wisely avert scenario 've talked And way 'll seeing creative capacity richness seeing child hope And task educate whole , face future By way â€ ” may see future , And job help make something Thank much ( Applause )\"}"
      ]
     },
     "execution_count": 19,
     "metadata": {},
     "output_type": "execute_result"
    }
   ],
   "source": [
    "# bert_data\n",
    "data = {}\n",
    "for i in range(len(final)):\n",
    "    data[i] = final[i]\n",
    "data"
   ]
  },
  {
   "cell_type": "code",
   "execution_count": null,
   "id": "73c7eb29",
   "metadata": {},
   "outputs": [],
   "source": [
    "a = 0\n",
    "for i in range(1, len(combined_sent)):\n",
    "    sentence_embeddings2 = model.encode(bert_data)\n",
    "    print(i + cosine_similarity([sentence_embeddings[i]],sentence_embeddings2[a:])[0][0])\n",
    "    if(cosine_similarity([sentence_embeddings[i]],sentence_embeddings2[a:a+1])[0][0] >= 0.5):\n",
    "        sentences_string += combined_sent.loc[i].at['transcript']\n",
    "        bert_data[a] = sentences_string\n",
    "    else:\n",
    "        sentences_string = combined_sent.loc[i].at['transcript']\n",
    "        bert_data.append(sentences_string)\n",
    "        a += 1\n",
    "bert_data\n",
    "data = {}\n",
    "for i in range(len(bert_data)):\n",
    "    data[i] = bert_data[i]\n",
    "data"
   ]
  }
 ],
 "metadata": {
  "kernelspec": {
   "display_name": "Python 3 (ipykernel)",
   "language": "python",
   "name": "python3"
  },
  "language_info": {
   "codemirror_mode": {
    "name": "ipython",
    "version": 3
   },
   "file_extension": ".py",
   "mimetype": "text/x-python",
   "name": "python",
   "nbconvert_exporter": "python",
   "pygments_lexer": "ipython3",
   "version": "3.9.7"
  }
 },
 "nbformat": 4,
 "nbformat_minor": 5
}
